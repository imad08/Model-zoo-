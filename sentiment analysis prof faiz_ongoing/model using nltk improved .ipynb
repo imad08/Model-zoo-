{
  "nbformat": 4,
  "nbformat_minor": 0,
  "metadata": {
    "colab": {
      "name": "model (1).ipynb",
      "provenance": [],
      "collapsed_sections": []
    },
    "kernelspec": {
      "name": "python3",
      "display_name": "Python 3"
    },
    "language_info": {
      "name": "python"
    }
  },
  "cells": [
    {
      "cell_type": "code",
      "metadata": {
        "colab": {
          "base_uri": "https://localhost:8080/"
        },
        "id": "OP_XCBVw4c0Z",
        "outputId": "124653b1-71fb-48bc-8e6d-2bc809ee116d"
      },
      "source": [
        "import nltk\n",
        "nltk.download()\n",
        " \n",
        "# type d => <enter> => stopwords => <enter>\n",
        "# type d => <enter> => wordnet => <enter> => q"
      ],
      "execution_count": null,
      "outputs": [
        {
          "output_type": "stream",
          "text": [
            "NLTK Downloader\n",
            "---------------------------------------------------------------------------\n",
            "    d) Download   l) List    u) Update   c) Config   h) Help   q) Quit\n",
            "---------------------------------------------------------------------------\n",
            "Downloader> d\n",
            "\n",
            "Download which package (l=list; x=cancel)?\n",
            "  Identifier> stopwords\n",
            "    Downloading package stopwords to /root/nltk_data...\n",
            "      Unzipping corpora/stopwords.zip.\n",
            "\n",
            "---------------------------------------------------------------------------\n",
            "    d) Download   l) List    u) Update   c) Config   h) Help   q) Quit\n",
            "---------------------------------------------------------------------------\n",
            "Downloader> d\n",
            "\n",
            "Download which package (l=list; x=cancel)?\n",
            "  Identifier> wordnet\n",
            "    Downloading package wordnet to /root/nltk_data...\n",
            "      Unzipping corpora/wordnet.zip.\n",
            "\n",
            "---------------------------------------------------------------------------\n",
            "    d) Download   l) List    u) Update   c) Config   h) Help   q) Quit\n",
            "---------------------------------------------------------------------------\n",
            "Downloader> q\n"
          ],
          "name": "stdout"
        },
        {
          "output_type": "execute_result",
          "data": {
            "text/plain": [
              "True"
            ]
          },
          "metadata": {
            "tags": []
          },
          "execution_count": 10
        }
      ]
    },
    {
      "cell_type": "code",
      "metadata": {
        "colab": {
          "base_uri": "https://localhost:8080/"
        },
        "id": "Tx0Psjnw9FBi",
        "outputId": "a3439d93-9135-4d33-dd4b-d72312157166"
      },
      "source": [
        "import pandas as pd\n",
        "import numpy as np\n",
        "df = pd.read_csv('new_df (2).csv')[:239]\n",
        "print('Out of {} tweets, {} are demanding vaccines and {} are not.'.format(len(df), len(df[df['response'] == 1]), len(df[df['response'] == 0])))"
      ],
      "execution_count": null,
      "outputs": [
        {
          "output_type": "stream",
          "text": [
            "Out of 239 tweets, 67 are demanding vaccines and 172 are not.\n"
          ],
          "name": "stdout"
        }
      ]
    },
    {
      "cell_type": "code",
      "metadata": {
        "id": "gIRri1ck_jCZ"
      },
      "source": [
        "import re\n",
        "import string\n",
        "\n",
        "def clean(txt: str):\n",
        "  txt = re.sub(r'@[A-Za-z0-9_]+', '', txt)\n",
        "  txt = re.sub(r'&amp', 'and', txt)\n",
        "  txt = re.sub('#', '', txt)\n",
        "  txt = re.sub(r'RT', '', txt)\n",
        "  txt = re.sub(r'https?:\\/\\/[A-Za-z0-9\\.\\/]+', '', txt)\n",
        "  txt = ''.join([c for c in txt if c not in string.punctuation])\n",
        "  txt = txt.lower()\n",
        "  #for c in string.punctuation:\n",
        "  #  txt = re.sub(c, '', txt)\n",
        "  return txt\n",
        "\n",
        "def tokenize(text: str):\n",
        "  tokens = re.split('\\W+', text)\n",
        "  return tokens"
      ],
      "execution_count": null,
      "outputs": []
    },
    {
      "cell_type": "code",
      "metadata": {
        "id": "w8cQJEPKB79g"
      },
      "source": [
        "stopwords = nltk.corpus.stopwords.words('english')\n",
        "\n",
        "def removeStopwords(tokens):\n",
        "  ret = [token for token in tokens if token not in stopwords]\n",
        "  ret = [token for token in tokens if token != '']\n",
        "  return ret"
      ],
      "execution_count": null,
      "outputs": []
    },
    {
      "cell_type": "code",
      "metadata": {
        "id": "bco9NFbnClwD"
      },
      "source": [
        "wn = nltk.WordNetLemmatizer()\n",
        "\n",
        "def lemmatize(tokens):\n",
        "  ret = [wn.lemmatize(token) for token in tokens]\n",
        "  return ret\n",
        "\n",
        "def finalClean(txt: str):\n",
        "  return lemmatize(removeStopwords(tokenize(clean(txt))))\n",
        "\n",
        "df['final'] = df['tweet'].apply(lambda x: finalClean(x))"
      ],
      "execution_count": null,
      "outputs": []
    },
    {
      "cell_type": "code",
      "metadata": {
        "id": "BMDBoyNfiRb-",
        "colab": {
          "base_uri": "https://localhost:8080/"
        },
        "outputId": "2b0e8a75-25fb-4ee1-96f9-4033a63a11ef"
      },
      "source": [
        "df.to_csv('new_df_marked_cleaned.csv')\n",
        "df.info()"
      ],
      "execution_count": null,
      "outputs": [
        {
          "output_type": "stream",
          "text": [
            "<class 'pandas.core.frame.DataFrame'>\n",
            "RangeIndex: 239 entries, 0 to 238\n",
            "Data columns (total 11 columns):\n",
            " #   Column      Non-Null Count  Dtype  \n",
            "---  ------      --------------  -----  \n",
            " 0   Unnamed: 0  239 non-null    int64  \n",
            " 1   date        239 non-null    object \n",
            " 2   tweet       239 non-null    object \n",
            " 3   language    239 non-null    object \n",
            " 4   hashtags    239 non-null    object \n",
            " 5   nlikes      239 non-null    int64  \n",
            " 6   nreplies    239 non-null    int64  \n",
            " 7   nlikes.1    239 non-null    int64  \n",
            " 8   nretweets   239 non-null    int64  \n",
            " 9   response    239 non-null    float64\n",
            " 10  final       239 non-null    object \n",
            "dtypes: float64(1), int64(5), object(5)\n",
            "memory usage: 20.7+ KB\n"
          ],
          "name": "stdout"
        }
      ]
    },
    {
      "cell_type": "code",
      "metadata": {
        "colab": {
          "base_uri": "https://localhost:8080/",
          "height": 296
        },
        "id": "18hj6E35EULv",
        "outputId": "7ae44a25-a02c-4af7-b6a4-0fd2ee9d1bea"
      },
      "source": [
        "#!pip list | grep scikit-learn || pip install scikit-learn\n",
        "from sklearn.feature_extraction.text import CountVectorizer\n",
        "from sklearn.ensemble import RandomForestClassifier\n",
        "from sklearn.model_selection import train_test_split\n",
        "from sklearn.metrics import precision_recall_fscore_support as score\n",
        "from sklearn.metrics import accuracy_score as acs\n",
        "from sklearn.metrics import confusion_matrix\n",
        "import matplotlib.pyplot as plt\n",
        "import seaborn as sns\n",
        "\n",
        "X = df[['tweet']]\n",
        "y = df['response']\n",
        "X_train, X_test, y_train, y_test = train_test_split(X, y, test_size=0.25, random_state=42)\n",
        "\n",
        "countVect = CountVectorizer(analyzer=finalClean)\n",
        "count_fit_train = countVect.fit_transform(X_train['tweet'])\n",
        "count_fit_test = countVect.transform(X_test['tweet'])\n",
        "\n",
        "X_train_vec = pd.DataFrame(count_fit_train.toarray())\n",
        "X_test_vec = pd.DataFrame(count_fit_test.toarray())\n",
        "\n",
        "rf = RandomForestClassifier(n_estimators=150, max_depth=None, n_jobs=-1)\n",
        "rf_model = rf.fit(X_train_vec, y_train)\n",
        "y_pred = rf_model.predict(X_test_vec)\n",
        "\n",
        "precision, recall, fscore, train_support = score(y_test, y_pred, pos_label=1, average='binary')\n",
        "\n",
        "cm = confusion_matrix(y_test, y_pred)\n",
        "class_label = [\"no_demand\", \"demand\"]\n",
        "df_cm = pd.DataFrame(cm, index=class_label,columns=class_label)\n",
        "sns.heatmap(df_cm, annot=True, fmt='d')\n",
        "plt.title(\"Confusion Matrix\")\n",
        "plt.xlabel(\"Predicted Label\")\n",
        "plt.ylabel(\"True Label\")\n",
        "plt.show()"
      ],
      "execution_count": null,
      "outputs": [
        {
          "output_type": "display_data",
          "data": {
            "image/png": "[encoded data removed]",
            "text/plain": [
              "<Figure size 432x288 with 2 Axes>"
            ]
          },
          "metadata": {
            "tags": [],
            "needs_background": "light"
          }
        }
      ]
    },
    {
      "cell_type": "code",
      "metadata": {
        "colab": {
          "base_uri": "https://localhost:8080/"
        },
        "id": "McDeQYtgkasb",
        "outputId": "8e37d3ca-f1cb-440e-ff14-b3ccf3e3e75d"
      },
      "source": [
        "print(precision, recall, fscore, acs(y_test, y_pred))"
      ],
      "execution_count": null,
      "outputs": [
        {
          "output_type": "stream",
          "text": [
            "1.0 0.21052631578947367 0.34782608695652173 0.75\n"
          ],
          "name": "stdout"
        }
      ]
    },
    {
      "cell_type": "code",
      "metadata": {
        "id": "yijWbTbH1yts"
      },
      "source": [
        "df_pred = pd.read_csv('new_df (2).csv')[240:300]\n",
        "X_to_pred = pd.DataFrame(countVect.transform(df_pred['tweet']).toarray())\n",
        "y_to_pred = rf_model.predict(X_to_pred)\n",
        "df_pred['predicted'] = y_to_pred\n",
        "df_pred.to_csv('predicted.csv')"
      ],
      "execution_count": null,
      "outputs": []
    },
    {
      "cell_type": "code",
      "metadata": {
        "id": "s31P1STX4y4F"
      },
      "source": [
        "def predict(text: str):\n",
        "  df_pr = pd.DataFrame([[text]], columns=['tweet'])\n",
        "  features = pd.DataFrame(countVect.transform(df_pr['tweet']).toarray())\n",
        "  y_pr = rf_model.predict(features)\n",
        "  return y_pr"
      ],
      "execution_count": null,
      "outputs": []
    },
    {
      "cell_type": "code",
      "metadata": {
        "colab": {
          "base_uri": "https://localhost:8080/"
        },
        "id": "TySkH1cR9E5R",
        "outputId": "598fb7cb-9abd-4d80-9590-e758c0687b9c"
      },
      "source": [
        "print(predict(''))"
      ],
      "execution_count": null,
      "outputs": [
        {
          "output_type": "stream",
          "text": [
            "[0.]\n"
          ],
          "name": "stdout"
        }
      ]
    }
  ]
}