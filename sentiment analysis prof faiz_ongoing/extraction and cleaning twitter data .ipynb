{
  "nbformat": 4,
  "nbformat_minor": 0,
  "metadata": {
    "colab": {
      "name": "datacleaning .ipynb",
      "provenance": [],
      "collapsed_sections": []
    },
    "kernelspec": {
      "name": "python3",
      "display_name": "Python 3"
    },
    "language_info": {
      "name": "python"
    }
  },
  "cells": [
    {
      "cell_type": "code",
      "metadata": {
        "id": "sm1nqJRmG0e4"
      },
      "source": [
        "import pandas as pd \n",
        "df = pd.read_csv('combined_vadodra.csv')"
      ],
      "execution_count": null,
      "outputs": []
    },
    {
      "cell_type": "code",
      "metadata": {
        "colab": {
          "base_uri": "https://localhost:8080/"
        },
        "id": "5PzjgWfwHceT",
        "outputId": "28a5143a-7f85-43ea-9239-0683996b50e6"
      },
      "source": [
        "df.info()"
      ],
      "execution_count": null,
      "outputs": [
        {
          "output_type": "stream",
          "text": [
            "<class 'pandas.core.frame.DataFrame'>\n",
            "RangeIndex: 743 entries, 0 to 742\n",
            "Data columns (total 39 columns):\n",
            " #   Column           Non-Null Count  Dtype  \n",
            "---  ------           --------------  -----  \n",
            " 0   Unnamed: 0       743 non-null    int64  \n",
            " 1   id               743 non-null    int64  \n",
            " 2   conversation_id  743 non-null    int64  \n",
            " 3   created_at       743 non-null    float64\n",
            " 4   date             743 non-null    object \n",
            " 5   timezone         743 non-null    int64  \n",
            " 6   place            9 non-null      object \n",
            " 7   tweet            743 non-null    object \n",
            " 8   language         743 non-null    object \n",
            " 9   hashtags         743 non-null    object \n",
            " 10  cashtags         743 non-null    object \n",
            " 11  user_id          743 non-null    int64  \n",
            " 12  user_id_str      743 non-null    int64  \n",
            " 13  username         743 non-null    object \n",
            " 14  name             743 non-null    object \n",
            " 15  day              743 non-null    int64  \n",
            " 16  hour             743 non-null    int64  \n",
            " 17  link             743 non-null    object \n",
            " 18  urls             743 non-null    object \n",
            " 19  photos           743 non-null    object \n",
            " 20  video            743 non-null    int64  \n",
            " 21  thumbnail        273 non-null    object \n",
            " 22  retweet          743 non-null    bool   \n",
            " 23  nlikes           743 non-null    int64  \n",
            " 24  nreplies         743 non-null    int64  \n",
            " 25  nretweets        743 non-null    int64  \n",
            " 26  quote_url        71 non-null     object \n",
            " 27  search           743 non-null    object \n",
            " 28  near             0 non-null      float64\n",
            " 29  geo              743 non-null    object \n",
            " 30  source           0 non-null      float64\n",
            " 31  user_rt_id       0 non-null      float64\n",
            " 32  user_rt          0 non-null      float64\n",
            " 33  retweet_id       0 non-null      float64\n",
            " 34  reply_to         743 non-null    object \n",
            " 35  retweet_date     0 non-null      float64\n",
            " 36  translate        0 non-null      float64\n",
            " 37  trans_src        0 non-null      float64\n",
            " 38  trans_dest       0 non-null      float64\n",
            "dtypes: bool(1), float64(10), int64(12), object(16)\n",
            "memory usage: 221.4+ KB\n"
          ],
          "name": "stdout"
        }
      ]
    },
    {
      "cell_type": "code",
      "metadata": {
        "id": "F-muEF01HesK"
      },
      "source": [
        "df2 = df[['date','tweet','language','hashtags','nlikes','nreplies','nlikes','nretweets']]"
      ],
      "execution_count": null,
      "outputs": []
    },
    {
      "cell_type": "code",
      "metadata": {
        "colab": {
          "base_uri": "https://localhost:8080/"
        },
        "id": "RxRVPbuAI5Nr",
        "outputId": "d7a292c5-1fdf-462c-b746-ba8fa6414c60"
      },
      "source": [
        "df2.info()"
      ],
      "execution_count": null,
      "outputs": [
        {
          "output_type": "stream",
          "text": [
            "<class 'pandas.core.frame.DataFrame'>\n",
            "RangeIndex: 743 entries, 0 to 742\n",
            "Data columns (total 8 columns):\n",
            " #   Column     Non-Null Count  Dtype \n",
            "---  ------     --------------  ----- \n",
            " 0   date       743 non-null    object\n",
            " 1   tweet      743 non-null    object\n",
            " 2   language   743 non-null    object\n",
            " 3   hashtags   743 non-null    object\n",
            " 4   nlikes     743 non-null    int64 \n",
            " 5   nreplies   743 non-null    int64 \n",
            " 6   nlikes     743 non-null    int64 \n",
            " 7   nretweets  743 non-null    int64 \n",
            "dtypes: int64(4), object(4)\n",
            "memory usage: 46.6+ KB\n"
          ],
          "name": "stdout"
        }
      ]
    },
    {
      "cell_type": "code",
      "metadata": {
        "colab": {
          "base_uri": "https://localhost:8080/"
        },
        "id": "L9WEm2KPI87K",
        "outputId": "8427b1d6-c425-4d1a-89a5-93a8c10b34f5"
      },
      "source": [
        "df2['language'].describe()"
      ],
      "execution_count": null,
      "outputs": [
        {
          "output_type": "execute_result",
          "data": {
            "text/plain": [
              "count     743\n",
              "unique     12\n",
              "top        en\n",
              "freq      646\n",
              "Name: language, dtype: object"
            ]
          },
          "metadata": {
            "tags": []
          },
          "execution_count": 5
        }
      ]
    },
    {
      "cell_type": "code",
      "metadata": {
        "colab": {
          "base_uri": "https://localhost:8080/",
          "height": 35
        },
        "id": "3-VbwJz7ErPO",
        "outputId": "f0308ace-2ba4-4a9c-bea1-2e1fc8f173dc"
      },
      "source": [
        "df2= df2[df2.language == 'en']\n",
        "'''for i in range(830):\n",
        "  if(df1['language']!='en'):\n",
        "    df1.drop(i,axis=0)'''"
      ],
      "execution_count": null,
      "outputs": [
        {
          "output_type": "execute_result",
          "data": {
            "application/vnd.google.colaboratory.intrinsic+json": {
              "type": "string"
            },
            "text/plain": [
              "\"for i in range(830):\\n  if(df1['language']!='en'):\\n    df1.drop(i,axis=0)\""
            ]
          },
          "metadata": {
            "tags": []
          },
          "execution_count": 6
        }
      ]
    },
    {
      "cell_type": "code",
      "metadata": {
        "id": "cRoXq6eTJiFl",
        "colab": {
          "base_uri": "https://localhost:8080/"
        },
        "outputId": "8676a352-63eb-435f-a8ab-1310c2ef9920"
      },
      "source": [
        "df2.info()"
      ],
      "execution_count": null,
      "outputs": [
        {
          "output_type": "stream",
          "text": [
            "<class 'pandas.core.frame.DataFrame'>\n",
            "Int64Index: 646 entries, 0 to 742\n",
            "Data columns (total 8 columns):\n",
            " #   Column     Non-Null Count  Dtype \n",
            "---  ------     --------------  ----- \n",
            " 0   date       646 non-null    object\n",
            " 1   tweet      646 non-null    object\n",
            " 2   language   646 non-null    object\n",
            " 3   hashtags   646 non-null    object\n",
            " 4   nlikes     646 non-null    int64 \n",
            " 5   nreplies   646 non-null    int64 \n",
            " 6   nlikes     646 non-null    int64 \n",
            " 7   nretweets  646 non-null    int64 \n",
            "dtypes: int64(4), object(4)\n",
            "memory usage: 45.4+ KB\n"
          ],
          "name": "stdout"
        }
      ]
    },
    {
      "cell_type": "code",
      "metadata": {
        "id": "EWYyIrqqKSyl"
      },
      "source": [
        "df1=df2"
      ],
      "execution_count": null,
      "outputs": []
    },
    {
      "cell_type": "code",
      "metadata": {
        "colab": {
          "base_uri": "https://localhost:8080/"
        },
        "id": "mpDezzwKKVn_",
        "outputId": "0c0e3ecc-3631-475c-daa0-47398133b15a"
      },
      "source": [
        "df1['language'].describe()"
      ],
      "execution_count": null,
      "outputs": [
        {
          "output_type": "execute_result",
          "data": {
            "text/plain": [
              "count     646\n",
              "unique      1\n",
              "top        en\n",
              "freq      646\n",
              "Name: language, dtype: object"
            ]
          },
          "metadata": {
            "tags": []
          },
          "execution_count": 9
        }
      ]
    },
    {
      "cell_type": "code",
      "metadata": {
        "id": "JPJsSRlyKYqx"
      },
      "source": [
        "#df1['tweet'][3]"
      ],
      "execution_count": null,
      "outputs": []
    },
    {
      "cell_type": "code",
      "metadata": {
        "id": "8lpX1obiKduS"
      },
      "source": [
        "df1 = df1.drop_duplicates(subset=['tweet'])"
      ],
      "execution_count": null,
      "outputs": []
    },
    {
      "cell_type": "code",
      "metadata": {
        "colab": {
          "base_uri": "https://localhost:8080/"
        },
        "id": "VCuLWWk9LibC",
        "outputId": "1faba167-c37c-4191-af41-821d8f586c16"
      },
      "source": [
        "df1.info()\n",
        "df1.reset_index(drop=True,inplace=True)\n",
        "#df1.to_csv('k.csv')"
      ],
      "execution_count": null,
      "outputs": [
        {
          "output_type": "stream",
          "text": [
            "<class 'pandas.core.frame.DataFrame'>\n",
            "Int64Index: 577 entries, 0 to 742\n",
            "Data columns (total 8 columns):\n",
            " #   Column     Non-Null Count  Dtype \n",
            "---  ------     --------------  ----- \n",
            " 0   date       577 non-null    object\n",
            " 1   tweet      577 non-null    object\n",
            " 2   language   577 non-null    object\n",
            " 3   hashtags   577 non-null    object\n",
            " 4   nlikes     577 non-null    int64 \n",
            " 5   nreplies   577 non-null    int64 \n",
            " 6   nlikes     577 non-null    int64 \n",
            " 7   nretweets  577 non-null    int64 \n",
            "dtypes: int64(4), object(4)\n",
            "memory usage: 40.6+ KB\n"
          ],
          "name": "stdout"
        }
      ]
    },
    {
      "cell_type": "code",
      "metadata": {
        "colab": {
          "base_uri": "https://localhost:8080/"
        },
        "id": "YPAEaSJ7Lly4",
        "outputId": "2d63097d-51c8-4e8d-a2cc-c5077ebb3a48"
      },
      "source": [
        "import re\n",
        "#df1 = pd.read_csv('k (1).csv')\n",
        "for i in range(577):\n",
        "  df1['tweet'][i] = re.sub(\"@\\S+\", \" \", df1['tweet'][i])\n",
        "  df1['tweet'][i] = re.sub(\"#\\S+\", \" \", df1['tweet'][i])\n",
        "  df1['tweet'][i] = re.sub(r'https*\\S+', ' ', df1['tweet'][i])\n",
        "  "
      ],
      "execution_count": null,
      "outputs": [
        {
          "output_type": "stream",
          "text": [
            "/usr/local/lib/python3.7/dist-packages/IPython/core/interactiveshell.py:2882: SettingWithCopyWarning: \n",
            "A value is trying to be set on a copy of a slice from a DataFrame\n",
            "\n",
            "See the caveats in the documentation: https://pandas.pydata.org/pandas-docs/stable/user_guide/indexing.html#returning-a-view-versus-a-copy\n",
            "  exec(code_obj, self.user_global_ns, self.user_ns)\n"
          ],
          "name": "stderr"
        }
      ]
    },
    {
      "cell_type": "code",
      "metadata": {
        "id": "L1UAf_x-Lv1c",
        "colab": {
          "base_uri": "https://localhost:8080/"
        },
        "outputId": "a66639a6-4aae-4e25-b2c2-f4415c34c94b"
      },
      "source": [
        "df1['t'] = df1['tweet'].str.split().str.len()"
      ],
      "execution_count": null,
      "outputs": [
        {
          "output_type": "stream",
          "text": [
            "/usr/local/lib/python3.7/dist-packages/ipykernel_launcher.py:1: SettingWithCopyWarning: \n",
            "A value is trying to be set on a copy of a slice from a DataFrame.\n",
            "Try using .loc[row_indexer,col_indexer] = value instead\n",
            "\n",
            "See the caveats in the documentation: https://pandas.pydata.org/pandas-docs/stable/user_guide/indexing.html#returning-a-view-versus-a-copy\n",
            "  \"\"\"Entry point for launching an IPython kernel.\n"
          ],
          "name": "stderr"
        }
      ]
    },
    {
      "cell_type": "code",
      "metadata": {
        "id": "bB2DdNoIPiRm"
      },
      "source": [
        "df1= df1[df1.t > 3 ]"
      ],
      "execution_count": null,
      "outputs": []
    },
    {
      "cell_type": "code",
      "metadata": {
        "colab": {
          "base_uri": "https://localhost:8080/"
        },
        "id": "1EUP3X1iSSXd",
        "outputId": "fdf7b611-0e57-4397-fffa-891befda7c04"
      },
      "source": [
        "df1.info()\n",
        "df1.reset_index(drop=True,inplace=True)"
      ],
      "execution_count": null,
      "outputs": [
        {
          "output_type": "stream",
          "text": [
            "<class 'pandas.core.frame.DataFrame'>\n",
            "Int64Index: 576 entries, 0 to 576\n",
            "Data columns (total 9 columns):\n",
            " #   Column     Non-Null Count  Dtype \n",
            "---  ------     --------------  ----- \n",
            " 0   date       576 non-null    object\n",
            " 1   tweet      576 non-null    object\n",
            " 2   language   576 non-null    object\n",
            " 3   hashtags   576 non-null    object\n",
            " 4   nlikes     576 non-null    int64 \n",
            " 5   nreplies   576 non-null    int64 \n",
            " 6   nlikes     576 non-null    int64 \n",
            " 7   nretweets  576 non-null    int64 \n",
            " 8   t          576 non-null    int64 \n",
            "dtypes: int64(5), object(4)\n",
            "memory usage: 45.0+ KB\n"
          ],
          "name": "stdout"
        }
      ]
    },
    {
      "cell_type": "code",
      "metadata": {
        "id": "vvj2ocKOVR0r"
      },
      "source": [
        "import pandas as pd \n",
        "#df1 = pd.read_csv('sl.csv')\n",
        "import nltk\n",
        "from nltk import sent_tokenize, word_tokenize\n",
        "from nltk.stem.snowball import SnowballStemmer\n",
        "from nltk.stem.wordnet import WordNetLemmatizer\n",
        "from nltk.corpus import stopwords\n",
        "import re\n",
        "import string"
      ],
      "execution_count": null,
      "outputs": []
    },
    {
      "cell_type": "code",
      "metadata": {
        "colab": {
          "base_uri": "https://localhost:8080/"
        },
        "id": "IUF_cRB7Vt_d",
        "outputId": "34a76dab-5534-4115-bc46-98a2ce464523"
      },
      "source": [
        "df1.info()\n",
        "#df1 = df1.sort_values(by=\"date\")\n",
        "df1.date.head(500)\n",
        "#df1.to_csv('ll.csv')"
      ],
      "execution_count": null,
      "outputs": [
        {
          "output_type": "stream",
          "text": [
            "<class 'pandas.core.frame.DataFrame'>\n",
            "RangeIndex: 576 entries, 0 to 575\n",
            "Data columns (total 9 columns):\n",
            " #   Column     Non-Null Count  Dtype \n",
            "---  ------     --------------  ----- \n",
            " 0   date       576 non-null    object\n",
            " 1   tweet      576 non-null    object\n",
            " 2   language   576 non-null    object\n",
            " 3   hashtags   576 non-null    object\n",
            " 4   nlikes     576 non-null    int64 \n",
            " 5   nreplies   576 non-null    int64 \n",
            " 6   nlikes     576 non-null    int64 \n",
            " 7   nretweets  576 non-null    int64 \n",
            " 8   t          576 non-null    int64 \n",
            "dtypes: int64(5), object(4)\n",
            "memory usage: 40.6+ KB\n"
          ],
          "name": "stdout"
        },
        {
          "output_type": "execute_result",
          "data": {
            "text/plain": [
              "0      2021-03-13 11:35:37\n",
              "1      2021-03-13 01:02:29\n",
              "2      2021-03-12 14:34:27\n",
              "3      2021-03-12 11:36:14\n",
              "4      2021-03-12 09:01:34\n",
              "              ...         \n",
              "495    2021-03-05 14:36:23\n",
              "496    2021-03-05 14:29:16\n",
              "497    2021-03-05 14:24:40\n",
              "498    2021-03-05 14:13:54\n",
              "499    2021-03-05 13:40:53\n",
              "Name: date, Length: 500, dtype: object"
            ]
          },
          "metadata": {
            "tags": []
          },
          "execution_count": 18
        }
      ]
    },
    {
      "cell_type": "code",
      "metadata": {
        "id": "pcs5ao7BWjO3"
      },
      "source": [
        "df1['date'] = df1['date'].map(lambda x: x[0:10])\n"
      ],
      "execution_count": null,
      "outputs": []
    },
    {
      "cell_type": "code",
      "metadata": {
        "colab": {
          "base_uri": "https://localhost:8080/"
        },
        "id": "wqied81NsFWQ",
        "outputId": "2b45a9a0-5110-4fc4-c04e-06065e88a5d4"
      },
      "source": [
        "df1.head()\n",
        "df1.info()\n",
        "df1.date.describe()\n",
        "num=0\n",
        "#df1 = df1 [df1,['category']]\n"
      ],
      "execution_count": null,
      "outputs": [
        {
          "output_type": "stream",
          "text": [
            "<class 'pandas.core.frame.DataFrame'>\n",
            "RangeIndex: 576 entries, 0 to 575\n",
            "Data columns (total 9 columns):\n",
            " #   Column     Non-Null Count  Dtype \n",
            "---  ------     --------------  ----- \n",
            " 0   date       576 non-null    object\n",
            " 1   tweet      576 non-null    object\n",
            " 2   language   576 non-null    object\n",
            " 3   hashtags   576 non-null    object\n",
            " 4   nlikes     576 non-null    int64 \n",
            " 5   nreplies   576 non-null    int64 \n",
            " 6   nlikes     576 non-null    int64 \n",
            " 7   nretweets  576 non-null    int64 \n",
            " 8   t          576 non-null    int64 \n",
            "dtypes: int64(5), object(4)\n",
            "memory usage: 40.6+ KB\n"
          ],
          "name": "stdout"
        }
      ]
    },
    {
      "cell_type": "code",
      "metadata": {
        "colab": {
          "base_uri": "https://localhost:8080/",
          "height": 402
        },
        "id": "yID1MdrcLhkg",
        "outputId": "fa30902f-5abd-41aa-e0a6-ae6f2e3e6214"
      },
      "source": [
        "len(df1)\n",
        "df1['tweet'][531]\n",
        "category = []\n",
        "df1"
      ],
      "execution_count": null,
      "outputs": [
        {
          "output_type": "execute_result",
          "data": {
            "text/html": [
              "<div>\n",
              "<style scoped>\n",
              "    .dataframe tbody tr th:only-of-type {\n",
              "        vertical-align: middle;\n",
              "    }\n",
              "\n",
              "    .dataframe tbody tr th {\n",
              "        vertical-align: top;\n",
              "    }\n",
              "\n",
              "    .dataframe thead th {\n",
              "        text-align: right;\n",
              "    }\n",
              "</style>\n",
              "<table border=\"1\" class=\"dataframe\">\n",
              "  <thead>\n",
              "    <tr style=\"text-align: right;\">\n",
              "      <th></th>\n",
              "      <th>date</th>\n",
              "      <th>tweet</th>\n",
              "      <th>language</th>\n",
              "      <th>hashtags</th>\n",
              "      <th>nlikes</th>\n",
              "      <th>nreplies</th>\n",
              "      <th>nlikes</th>\n",
              "      <th>nretweets</th>\n",
              "      <th>t</th>\n",
              "    </tr>\n",
              "  </thead>\n",
              "  <tbody>\n",
              "    <tr>\n",
              "      <th>0</th>\n",
              "      <td>2021-03-13</td>\n",
              "      <td>When a daughter encourages her mother who want...</td>\n",
              "      <td>en</td>\n",
              "      <td>[]</td>\n",
              "      <td>15</td>\n",
              "      <td>1</td>\n",
              "      <td>15</td>\n",
              "      <td>0</td>\n",
              "      <td>25</td>\n",
              "    </tr>\n",
              "    <tr>\n",
              "      <th>1</th>\n",
              "      <td>2021-03-13</td>\n",
              "      <td>Dereliction of duty, How much time dose Bmc ne...</td>\n",
              "      <td>en</td>\n",
              "      <td>[]</td>\n",
              "      <td>1</td>\n",
              "      <td>0</td>\n",
              "      <td>1</td>\n",
              "      <td>0</td>\n",
              "      <td>34</td>\n",
              "    </tr>\n",
              "    <tr>\n",
              "      <th>2</th>\n",
              "      <td>2021-03-12</td>\n",
              "      <td>I chose to be protected by 50% than no protect...</td>\n",
              "      <td>en</td>\n",
              "      <td>['vaccinated', 'inspire_lives']</td>\n",
              "      <td>1</td>\n",
              "      <td>0</td>\n",
              "      <td>1</td>\n",
              "      <td>0</td>\n",
              "      <td>32</td>\n",
              "    </tr>\n",
              "    <tr>\n",
              "      <th>3</th>\n",
              "      <td>2021-03-12</td>\n",
              "      <td>Modi's mother takes first dose of Covid vaccin...</td>\n",
              "      <td>en</td>\n",
              "      <td>[]</td>\n",
              "      <td>0</td>\n",
              "      <td>0</td>\n",
              "      <td>0</td>\n",
              "      <td>0</td>\n",
              "      <td>19</td>\n",
              "    </tr>\n",
              "    <tr>\n",
              "      <th>4</th>\n",
              "      <td>2021-03-12</td>\n",
              "      <td>@CovidIndiaSeva Is this TRUE that Covishield s...</td>\n",
              "      <td>en</td>\n",
              "      <td>[]</td>\n",
              "      <td>0</td>\n",
              "      <td>1</td>\n",
              "      <td>0</td>\n",
              "      <td>0</td>\n",
              "      <td>45</td>\n",
              "    </tr>\n",
              "    <tr>\n",
              "      <th>...</th>\n",
              "      <td>...</td>\n",
              "      <td>...</td>\n",
              "      <td>...</td>\n",
              "      <td>...</td>\n",
              "      <td>...</td>\n",
              "      <td>...</td>\n",
              "      <td>...</td>\n",
              "      <td>...</td>\n",
              "      <td>...</td>\n",
              "    </tr>\n",
              "    <tr>\n",
              "      <th>571</th>\n",
              "      <td>2021-03-09</td>\n",
              "      <td>#COVID19 Testing Updates  https://t.co/OG0hWbCnb4</td>\n",
              "      <td>en</td>\n",
              "      <td>['covid19']</td>\n",
              "      <td>0</td>\n",
              "      <td>0</td>\n",
              "      <td>0</td>\n",
              "      <td>0</td>\n",
              "      <td>4</td>\n",
              "    </tr>\n",
              "    <tr>\n",
              "      <th>572</th>\n",
              "      <td>2021-03-08</td>\n",
              "      <td>@flipkartsupport I will do consumer complain a...</td>\n",
              "      <td>en</td>\n",
              "      <td>[]</td>\n",
              "      <td>0</td>\n",
              "      <td>0</td>\n",
              "      <td>0</td>\n",
              "      <td>0</td>\n",
              "      <td>22</td>\n",
              "    </tr>\n",
              "    <tr>\n",
              "      <th>573</th>\n",
              "      <td>2021-03-06</td>\n",
              "      <td>@DefiStone Very passionate about alfa testing....</td>\n",
              "      <td>en</td>\n",
              "      <td>[]</td>\n",
              "      <td>0</td>\n",
              "      <td>0</td>\n",
              "      <td>0</td>\n",
              "      <td>0</td>\n",
              "      <td>11</td>\n",
              "    </tr>\n",
              "    <tr>\n",
              "      <th>574</th>\n",
              "      <td>2021-03-05</td>\n",
              "      <td>@Twitter testing out a @joinClubhouse like fea...</td>\n",
              "      <td>en</td>\n",
              "      <td>['clubhouse']</td>\n",
              "      <td>0</td>\n",
              "      <td>0</td>\n",
              "      <td>0</td>\n",
              "      <td>0</td>\n",
              "      <td>13</td>\n",
              "    </tr>\n",
              "    <tr>\n",
              "      <th>575</th>\n",
              "      <td>2021-03-05</td>\n",
              "      <td>@elibelly Yes!  1. how not to build your own c...</td>\n",
              "      <td>en</td>\n",
              "      <td>[]</td>\n",
              "      <td>2</td>\n",
              "      <td>0</td>\n",
              "      <td>2</td>\n",
              "      <td>0</td>\n",
              "      <td>47</td>\n",
              "    </tr>\n",
              "  </tbody>\n",
              "</table>\n",
              "<p>576 rows × 9 columns</p>\n",
              "</div>"
            ],
            "text/plain": [
              "           date  ...   t\n",
              "0    2021-03-13  ...  25\n",
              "1    2021-03-13  ...  34\n",
              "2    2021-03-12  ...  32\n",
              "3    2021-03-12  ...  19\n",
              "4    2021-03-12  ...  45\n",
              "..          ...  ...  ..\n",
              "571  2021-03-09  ...   4\n",
              "572  2021-03-08  ...  22\n",
              "573  2021-03-06  ...  11\n",
              "574  2021-03-05  ...  13\n",
              "575  2021-03-05  ...  47\n",
              "\n",
              "[576 rows x 9 columns]"
            ]
          },
          "metadata": {
            "tags": []
          },
          "execution_count": 21
        }
      ]
    },
    {
      "cell_type": "code",
      "metadata": {
        "id": "TXFa66vYyGnh",
        "colab": {
          "base_uri": "https://localhost:8080/"
        },
        "outputId": "8f3799dc-b9d2-486c-f791-ee32cc6032d6"
      },
      "source": [
        "print(len(df1['date'][0]))"
      ],
      "execution_count": null,
      "outputs": [
        {
          "output_type": "stream",
          "text": [
            "10\n"
          ],
          "name": "stdout"
        }
      ]
    },
    {
      "cell_type": "code",
      "metadata": {
        "id": "nq7PprUYQTvo"
      },
      "source": [
        "for i in range(576):\n",
        "  if(df1['date'][i]=='2021-03-05'):\n",
        "    category.append(1)\n",
        "  if(df1['date'][i]=='2021-03-06'):\n",
        "    category.append(2)\n",
        "  if(df1['date'][i]=='2021-03-07'):\n",
        "    category.append(3)\n",
        "  if(df1['date'][i]=='2021-03-08'):\n",
        "    category.append(4)\n",
        "  if(df1['date'][i]=='2021-03-09'):\n",
        "    category.append(5)\n",
        "  if(df1['date'][i]=='2021-03-10'):\n",
        "    category.append(6)\n",
        "  if(df1['date'][i]=='2021-03-11'):\n",
        "    category.append(7)\n",
        "  if(df1['date'][i]=='2021-03-12'):\n",
        "    category.append(8)\n",
        "  if(df1['date'][i]=='2021-03-13'):\n",
        "    category.append(9)\n",
        "  if(df1['date'][i]=='2021-03-14'):\n",
        "    category.append(10)"
      ],
      "execution_count": null,
      "outputs": []
    },
    {
      "cell_type": "code",
      "metadata": {
        "id": "IdSjXlhxTQX6"
      },
      "source": [
        "df1['category']=category"
      ],
      "execution_count": null,
      "outputs": []
    },
    {
      "cell_type": "code",
      "metadata": {
        "colab": {
          "base_uri": "https://localhost:8080/"
        },
        "id": "TjgniHsQTcei",
        "outputId": "cfe84b0f-87ce-429f-b8e4-ce555c6bd51b"
      },
      "source": [
        "for i in range(532):\n",
        "  if(df1['date'][i]=='2021-03-05'):\n",
        "    df1['category'][i]=1\n",
        "  if(df1['date'][i]=='2021-03-06'):\n",
        "    df1['category'][i]=2\n",
        "  if(df1['date'][i]=='2021-03-07'):\n",
        "    df1['category'][i]=3\n",
        "  if(df1['date'][i]=='2021-03-08'):\n",
        "    df1['category'][i]=4\n",
        "  if(df1['date'][i]=='2021-03-09'):\n",
        "    df1['category'][i]=5\n",
        "  if(df1['date'][i]=='2021-03-10'):\n",
        "    df1['category'][i]=6\n",
        "  if(df1['date'][i]=='2021-03-11'):\n",
        "    df1['category'][i]=7\n",
        "  if(df1['date'][i]=='2021-03-12'):\n",
        "    df1['category'][i]=8\n",
        "  if(df1['date'][i]=='2021-03-13'):\n",
        "    df1['category'][i]=9\n",
        "  if(df1['date'][i]=='2021-03-14'):\n",
        "    df1['category'][i]=10"
      ],
      "execution_count": null,
      "outputs": [
        {
          "output_type": "stream",
          "text": [
            "/usr/local/lib/python3.7/dist-packages/IPython/core/interactiveshell.py:2882: SettingWithCopyWarning: \n",
            "A value is trying to be set on a copy of a slice from a DataFrame\n",
            "\n",
            "See the caveats in the documentation: https://pandas.pydata.org/pandas-docs/stable/user_guide/indexing.html#returning-a-view-versus-a-copy\n",
            "  exec(code_obj, self.user_global_ns, self.user_ns)\n"
          ],
          "name": "stderr"
        }
      ]
    },
    {
      "cell_type": "code",
      "metadata": {
        "colab": {
          "base_uri": "https://localhost:8080/",
          "height": 195
        },
        "id": "KTcKZJkYyOOD",
        "outputId": "78bf61c6-9d2b-41fc-9fe0-64cdc9ff78fa"
      },
      "source": [
        "df1.head()"
      ],
      "execution_count": null,
      "outputs": [
        {
          "output_type": "execute_result",
          "data": {
            "text/html": [
              "<div>\n",
              "<style scoped>\n",
              "    .dataframe tbody tr th:only-of-type {\n",
              "        vertical-align: middle;\n",
              "    }\n",
              "\n",
              "    .dataframe tbody tr th {\n",
              "        vertical-align: top;\n",
              "    }\n",
              "\n",
              "    .dataframe thead th {\n",
              "        text-align: right;\n",
              "    }\n",
              "</style>\n",
              "<table border=\"1\" class=\"dataframe\">\n",
              "  <thead>\n",
              "    <tr style=\"text-align: right;\">\n",
              "      <th></th>\n",
              "      <th>date</th>\n",
              "      <th>tweet</th>\n",
              "      <th>language</th>\n",
              "      <th>hashtags</th>\n",
              "      <th>nlikes</th>\n",
              "      <th>nreplies</th>\n",
              "      <th>nlikes</th>\n",
              "      <th>nretweets</th>\n",
              "      <th>t</th>\n",
              "      <th>category</th>\n",
              "    </tr>\n",
              "  </thead>\n",
              "  <tbody>\n",
              "    <tr>\n",
              "      <th>0</th>\n",
              "      <td>2021-03-13</td>\n",
              "      <td>When a daughter encourages her mother who want...</td>\n",
              "      <td>en</td>\n",
              "      <td>[]</td>\n",
              "      <td>15</td>\n",
              "      <td>1</td>\n",
              "      <td>15</td>\n",
              "      <td>0</td>\n",
              "      <td>25</td>\n",
              "      <td>9</td>\n",
              "    </tr>\n",
              "    <tr>\n",
              "      <th>1</th>\n",
              "      <td>2021-03-13</td>\n",
              "      <td>Dereliction of duty, How much time dose Bmc ne...</td>\n",
              "      <td>en</td>\n",
              "      <td>[]</td>\n",
              "      <td>1</td>\n",
              "      <td>0</td>\n",
              "      <td>1</td>\n",
              "      <td>0</td>\n",
              "      <td>34</td>\n",
              "      <td>9</td>\n",
              "    </tr>\n",
              "    <tr>\n",
              "      <th>2</th>\n",
              "      <td>2021-03-12</td>\n",
              "      <td>I chose to be protected by 50% than no protect...</td>\n",
              "      <td>en</td>\n",
              "      <td>['vaccinated', 'inspire_lives']</td>\n",
              "      <td>1</td>\n",
              "      <td>0</td>\n",
              "      <td>1</td>\n",
              "      <td>0</td>\n",
              "      <td>32</td>\n",
              "      <td>8</td>\n",
              "    </tr>\n",
              "    <tr>\n",
              "      <th>3</th>\n",
              "      <td>2021-03-12</td>\n",
              "      <td>Modi's mother takes first dose of Covid vaccin...</td>\n",
              "      <td>en</td>\n",
              "      <td>[]</td>\n",
              "      <td>0</td>\n",
              "      <td>0</td>\n",
              "      <td>0</td>\n",
              "      <td>0</td>\n",
              "      <td>19</td>\n",
              "      <td>8</td>\n",
              "    </tr>\n",
              "    <tr>\n",
              "      <th>4</th>\n",
              "      <td>2021-03-12</td>\n",
              "      <td>@CovidIndiaSeva Is this TRUE that Covishield s...</td>\n",
              "      <td>en</td>\n",
              "      <td>[]</td>\n",
              "      <td>0</td>\n",
              "      <td>1</td>\n",
              "      <td>0</td>\n",
              "      <td>0</td>\n",
              "      <td>45</td>\n",
              "      <td>8</td>\n",
              "    </tr>\n",
              "  </tbody>\n",
              "</table>\n",
              "</div>"
            ],
            "text/plain": [
              "         date                                              tweet  ...   t category\n",
              "0  2021-03-13  When a daughter encourages her mother who want...  ...  25        9\n",
              "1  2021-03-13  Dereliction of duty, How much time dose Bmc ne...  ...  34        9\n",
              "2  2021-03-12  I chose to be protected by 50% than no protect...  ...  32        8\n",
              "3  2021-03-12  Modi's mother takes first dose of Covid vaccin...  ...  19        8\n",
              "4  2021-03-12  @CovidIndiaSeva Is this TRUE that Covishield s...  ...  45        8\n",
              "\n",
              "[5 rows x 10 columns]"
            ]
          },
          "metadata": {
            "tags": []
          },
          "execution_count": 26
        }
      ]
    },
    {
      "cell_type": "code",
      "metadata": {
        "id": "ycvlJ7wtPaAP"
      },
      "source": [
        "df1.to_csv('vadodra.csv')"
      ],
      "execution_count": null,
      "outputs": []
    },
    {
      "cell_type": "code",
      "metadata": {
        "colab": {
          "base_uri": "https://localhost:8080/"
        },
        "id": "E0033PFc6JNs",
        "outputId": "978d78ee-76f5-48bc-a4bf-802db1e89907"
      },
      "source": [
        "str=df1['date'][0]\n",
        "a=str[0]\n",
        "b=str[1]\n",
        "c=str[4]\n",
        "d=str[5]\n",
        "print(a)\n",
        "print(b)"
      ],
      "execution_count": null,
      "outputs": [
        {
          "output_type": "stream",
          "text": [
            "2\n",
            "0\n"
          ],
          "name": "stdout"
        }
      ]
    },
    {
      "cell_type": "code",
      "metadata": {
        "id": "a1aZ3ug_PYh3"
      },
      "source": [
        ""
      ],
      "execution_count": null,
      "outputs": []
    },
    {
      "cell_type": "code",
      "metadata": {
        "colab": {
          "base_uri": "https://localhost:8080/",
          "height": 228
        },
        "id": "NWVj2jF-yyeI",
        "outputId": "e148308e-c6c4-4221-8fe4-6036d5162ac0"
      },
      "source": [
        "#df1 = df1.sort_values(by=\"category\")\n",
        "import numpy as np\n",
        "import matplotlib.pyplot as plt\n",
        "date = df1.category\n",
        "#date = np.array(category,dtype='str') \n",
        "x ,y  = np.unique(date, return_counts=True)\n",
        "plt.figure(figsize=(10,3))\n",
        "plt.plot(x,y)"
      ],
      "execution_count": null,
      "outputs": [
        {
          "output_type": "execute_result",
          "data": {
            "text/plain": [
              "[<matplotlib.lines.Line2D at 0x7fd118dbf310>]"
            ]
          },
          "metadata": {
            "tags": []
          },
          "execution_count": 29
        },
        {
          "output_type": "display_data",
          "data": {
            "image/png": "[encoded data removed]",
            "text/plain": [
              "<Figure size 720x216 with 1 Axes>"
            ]
          },
          "metadata": {
            "tags": [],
            "needs_background": "light"
          }
        }
      ]
    },
    {
      "cell_type": "code",
      "metadata": {
        "colab": {
          "base_uri": "https://localhost:8080/",
          "height": 279
        },
        "id": "0T-uTsMSOLcT",
        "outputId": "088e1327-9bec-4195-fadb-47e93a12a27d"
      },
      "source": [
        "df1.head()"
      ],
      "execution_count": null,
      "outputs": [
        {
          "output_type": "execute_result",
          "data": {
            "text/html": [
              "<div>\n",
              "<style scoped>\n",
              "    .dataframe tbody tr th:only-of-type {\n",
              "        vertical-align: middle;\n",
              "    }\n",
              "\n",
              "    .dataframe tbody tr th {\n",
              "        vertical-align: top;\n",
              "    }\n",
              "\n",
              "    .dataframe thead th {\n",
              "        text-align: right;\n",
              "    }\n",
              "</style>\n",
              "<table border=\"1\" class=\"dataframe\">\n",
              "  <thead>\n",
              "    <tr style=\"text-align: right;\">\n",
              "      <th></th>\n",
              "      <th>date</th>\n",
              "      <th>tweet</th>\n",
              "      <th>language</th>\n",
              "      <th>hashtags</th>\n",
              "      <th>nlikes</th>\n",
              "      <th>nreplies</th>\n",
              "      <th>nlikes</th>\n",
              "      <th>nretweets</th>\n",
              "      <th>t</th>\n",
              "      <th>category</th>\n",
              "    </tr>\n",
              "  </thead>\n",
              "  <tbody>\n",
              "    <tr>\n",
              "      <th>0</th>\n",
              "      <td>2021-03-13</td>\n",
              "      <td>Got 1st dose  of the vaccine on 11 Mar at #Cov...</td>\n",
              "      <td>en</td>\n",
              "      <td>['covishield', 'drharshavardhan', 'ministryofh...</td>\n",
              "      <td>2</td>\n",
              "      <td>0</td>\n",
              "      <td>2</td>\n",
              "      <td>0</td>\n",
              "      <td>34</td>\n",
              "      <td>9</td>\n",
              "    </tr>\n",
              "    <tr>\n",
              "      <th>1</th>\n",
              "      <td>2021-03-13</td>\n",
              "      <td>Today I and my family took the first dose of C...</td>\n",
              "      <td>en</td>\n",
              "      <td>['covishield', 'covidvaccination', 'vaccinated...</td>\n",
              "      <td>9</td>\n",
              "      <td>1</td>\n",
              "      <td>9</td>\n",
              "      <td>3</td>\n",
              "      <td>34</td>\n",
              "      <td>9</td>\n",
              "    </tr>\n",
              "    <tr>\n",
              "      <th>2</th>\n",
              "      <td>2021-03-13</td>\n",
              "      <td>I got my first dose #CovidVaccine  https://t.c...</td>\n",
              "      <td>en</td>\n",
              "      <td>['covidvaccine']</td>\n",
              "      <td>5</td>\n",
              "      <td>0</td>\n",
              "      <td>5</td>\n",
              "      <td>0</td>\n",
              "      <td>7</td>\n",
              "      <td>9</td>\n",
              "    </tr>\n",
              "    <tr>\n",
              "      <th>3</th>\n",
              "      <td>2021-03-13</td>\n",
              "      <td>First dose of Covishield vaccine inoculated to...</td>\n",
              "      <td>en</td>\n",
              "      <td>['covid19', 'vaccine']</td>\n",
              "      <td>15</td>\n",
              "      <td>1</td>\n",
              "      <td>15</td>\n",
              "      <td>0</td>\n",
              "      <td>16</td>\n",
              "      <td>9</td>\n",
              "    </tr>\n",
              "    <tr>\n",
              "      <th>4</th>\n",
              "      <td>2021-03-13</td>\n",
              "      <td>As I had already come that far , had no choice...</td>\n",
              "      <td>en</td>\n",
              "      <td>[]</td>\n",
              "      <td>0</td>\n",
              "      <td>0</td>\n",
              "      <td>0</td>\n",
              "      <td>0</td>\n",
              "      <td>58</td>\n",
              "      <td>9</td>\n",
              "    </tr>\n",
              "  </tbody>\n",
              "</table>\n",
              "</div>"
            ],
            "text/plain": [
              "         date                                              tweet  ...   t category\n",
              "0  2021-03-13  Got 1st dose  of the vaccine on 11 Mar at #Cov...  ...  34        9\n",
              "1  2021-03-13  Today I and my family took the first dose of C...  ...  34        9\n",
              "2  2021-03-13  I got my first dose #CovidVaccine  https://t.c...  ...   7        9\n",
              "3  2021-03-13  First dose of Covishield vaccine inoculated to...  ...  16        9\n",
              "4  2021-03-13  As I had already come that far , had no choice...  ...  58        9\n",
              "\n",
              "[5 rows x 10 columns]"
            ]
          },
          "metadata": {
            "tags": []
          },
          "execution_count": 30
        }
      ]
    },
    {
      "cell_type": "code",
      "metadata": {
        "id": "VV-k8qX9YWPm"
      },
      "source": [
        "def tokenize(text):\n",
        "    tokens = re.split(\"\\W+\", text)\n",
        "    return tokens\n",
        "df1['tweet']= df1['tweet'].apply (lambda x: tokenize(x.lower()))"
      ],
      "execution_count": null,
      "outputs": []
    },
    {
      "cell_type": "code",
      "metadata": {
        "id": "SSOueVs_yw-b",
        "colab": {
          "base_uri": "https://localhost:8080/",
          "height": 279
        },
        "outputId": "70f3305d-b099-4274-b61f-2031af8c47bd"
      },
      "source": [
        "df1.head()"
      ],
      "execution_count": null,
      "outputs": [
        {
          "output_type": "execute_result",
          "data": {
            "text/html": [
              "<div>\n",
              "<style scoped>\n",
              "    .dataframe tbody tr th:only-of-type {\n",
              "        vertical-align: middle;\n",
              "    }\n",
              "\n",
              "    .dataframe tbody tr th {\n",
              "        vertical-align: top;\n",
              "    }\n",
              "\n",
              "    .dataframe thead th {\n",
              "        text-align: right;\n",
              "    }\n",
              "</style>\n",
              "<table border=\"1\" class=\"dataframe\">\n",
              "  <thead>\n",
              "    <tr style=\"text-align: right;\">\n",
              "      <th></th>\n",
              "      <th>date</th>\n",
              "      <th>tweet</th>\n",
              "      <th>language</th>\n",
              "      <th>hashtags</th>\n",
              "      <th>nlikes</th>\n",
              "      <th>nreplies</th>\n",
              "      <th>nlikes</th>\n",
              "      <th>nretweets</th>\n",
              "      <th>t</th>\n",
              "      <th>category</th>\n",
              "    </tr>\n",
              "  </thead>\n",
              "  <tbody>\n",
              "    <tr>\n",
              "      <th>0</th>\n",
              "      <td>2021-03-13</td>\n",
              "      <td>[got, 1st, dose, of, the, vaccine, on, 11, mar...</td>\n",
              "      <td>en</td>\n",
              "      <td>['covishield', 'drharshavardhan', 'ministryofh...</td>\n",
              "      <td>2</td>\n",
              "      <td>0</td>\n",
              "      <td>2</td>\n",
              "      <td>0</td>\n",
              "      <td>34</td>\n",
              "      <td>9</td>\n",
              "    </tr>\n",
              "    <tr>\n",
              "      <th>1</th>\n",
              "      <td>2021-03-13</td>\n",
              "      <td>[today, i, and, my, family, took, the, first, ...</td>\n",
              "      <td>en</td>\n",
              "      <td>['covishield', 'covidvaccination', 'vaccinated...</td>\n",
              "      <td>9</td>\n",
              "      <td>1</td>\n",
              "      <td>9</td>\n",
              "      <td>3</td>\n",
              "      <td>34</td>\n",
              "      <td>9</td>\n",
              "    </tr>\n",
              "    <tr>\n",
              "      <th>2</th>\n",
              "      <td>2021-03-13</td>\n",
              "      <td>[i, got, my, first, dose, covidvaccine, https,...</td>\n",
              "      <td>en</td>\n",
              "      <td>['covidvaccine']</td>\n",
              "      <td>5</td>\n",
              "      <td>0</td>\n",
              "      <td>5</td>\n",
              "      <td>0</td>\n",
              "      <td>7</td>\n",
              "      <td>9</td>\n",
              "    </tr>\n",
              "    <tr>\n",
              "      <th>3</th>\n",
              "      <td>2021-03-13</td>\n",
              "      <td>[first, dose, of, covishield, vaccine, inocula...</td>\n",
              "      <td>en</td>\n",
              "      <td>['covid19', 'vaccine']</td>\n",
              "      <td>15</td>\n",
              "      <td>1</td>\n",
              "      <td>15</td>\n",
              "      <td>0</td>\n",
              "      <td>16</td>\n",
              "      <td>9</td>\n",
              "    </tr>\n",
              "    <tr>\n",
              "      <th>4</th>\n",
              "      <td>2021-03-13</td>\n",
              "      <td>[as, i, had, already, come, that, far, had, no...</td>\n",
              "      <td>en</td>\n",
              "      <td>[]</td>\n",
              "      <td>0</td>\n",
              "      <td>0</td>\n",
              "      <td>0</td>\n",
              "      <td>0</td>\n",
              "      <td>58</td>\n",
              "      <td>9</td>\n",
              "    </tr>\n",
              "  </tbody>\n",
              "</table>\n",
              "</div>"
            ],
            "text/plain": [
              "         date                                              tweet  ...   t category\n",
              "0  2021-03-13  [got, 1st, dose, of, the, vaccine, on, 11, mar...  ...  34        9\n",
              "1  2021-03-13  [today, i, and, my, family, took, the, first, ...  ...  34        9\n",
              "2  2021-03-13  [i, got, my, first, dose, covidvaccine, https,...  ...   7        9\n",
              "3  2021-03-13  [first, dose, of, covishield, vaccine, inocula...  ...  16        9\n",
              "4  2021-03-13  [as, i, had, already, come, that, far, had, no...  ...  58        9\n",
              "\n",
              "[5 rows x 10 columns]"
            ]
          },
          "metadata": {
            "tags": []
          },
          "execution_count": 32
        }
      ]
    },
    {
      "cell_type": "code",
      "metadata": {
        "colab": {
          "base_uri": "https://localhost:8080/"
        },
        "id": "6a-0M4eHZHLK",
        "outputId": "9ad32b2e-873e-4035-a995-bd4aed79a506"
      },
      "source": [
        "nltk.download(\"stopwords\")\n",
        "stopwords = stopwords.words('english')\n",
        "def remove_stopword(text):\n",
        "    text_nostopword= [char for char in text if char not in stopwords]\n",
        "    return text_nostopword\n",
        "\n",
        "df1['tweet']= df1['tweet'].apply(lambda x: remove_stopword(x))"
      ],
      "execution_count": null,
      "outputs": [
        {
          "output_type": "stream",
          "text": [
            "[nltk_data] Downloading package stopwords to /root/nltk_data...\n",
            "[nltk_data]   Package stopwords is already up-to-date!\n"
          ],
          "name": "stdout"
        }
      ]
    },
    {
      "cell_type": "code",
      "metadata": {
        "id": "Sxn2-VJIVHx9"
      },
      "source": [
        "df1.to_csv('patna_clean.csv')"
      ],
      "execution_count": null,
      "outputs": []
    },
    {
      "cell_type": "code",
      "metadata": {
        "id": "poUB9p-HWlQe"
      },
      "source": [
        "data= pd.DataFrame(df1[[\"tweet\",\"category\"]])\n",
        "#data_list = df1.loc[:,\"tweet\"].to_list()\n",
        "#print(len(data_list))\n",
        "#data_list\n",
        "data_l = []\n",
        "sum = []\n",
        "for j in range(1,11):\n",
        "  for i in range(580):\n",
        "    if(df1.category[i] == j):\n",
        "      data_l.append(df1.tweet[i])\n",
        "      flat_data_list = [item for sublist in data_l for item in sublist]\n",
        "      len(flat_data_list)\n",
        "      data_count= pd.DataFrame(flat_data_list)\n",
        "      data_count= data_count[0].value_counts()\n",
        "  sum.append(data_count.vaccination + data_count.covid + data_count.testing)\n",
        "  data_l = []"
      ],
      "execution_count": null,
      "outputs": []
    },
    {
      "cell_type": "code",
      "metadata": {
        "colab": {
          "base_uri": "https://localhost:8080/"
        },
        "id": "VlxbBqFzW_e5",
        "outputId": "e538ed75-dc8e-4483-9f93-4a4978547891"
      },
      "source": [
        "# putting the twitter in flat list\n",
        "flat_data_list = [item for sublist in data_l for item in sublist]\n",
        "len(flat_data_list)\n",
        "sum"
      ],
      "execution_count": null,
      "outputs": [
        {
          "output_type": "execute_result",
          "data": {
            "text/plain": [
              "[67, 57, 50, 62, 65, 71, 40, 67]"
            ]
          },
          "metadata": {
            "tags": []
          },
          "execution_count": 54
        }
      ]
    },
    {
      "cell_type": "code",
      "metadata": {
        "id": "RcIBZlqvXd5i",
        "colab": {
          "base_uri": "https://localhost:8080/",
          "height": 555
        },
        "outputId": "00794185-df2c-4faa-d987-59f8d416363a"
      },
      "source": [
        "data_count= pd.DataFrame(flat_data_list)\n",
        "data_count= data_count[0].value_counts()\n",
        "trial_list = []\n",
        "trial_list.append(data_count['vaccination'])\n",
        "trial_list.append(data_count['covid'])\n",
        "trial_list.append(data_count['testing'])\n",
        "trial_list"
      ],
      "execution_count": null,
      "outputs": [
        {
          "output_type": "error",
          "ename": "KeyError",
          "evalue": "ignored",
          "traceback": [
            "\u001b[0;31m---------------------------------------------------------------------------\u001b[0m",
            "\u001b[0;31mKeyError\u001b[0m                                  Traceback (most recent call last)",
            "\u001b[0;32m/usr/local/lib/python3.7/dist-packages/pandas/core/indexes/base.py\u001b[0m in \u001b[0;36mget_loc\u001b[0;34m(self, key, method, tolerance)\u001b[0m\n\u001b[1;32m   2897\u001b[0m             \u001b[0;32mtry\u001b[0m\u001b[0;34m:\u001b[0m\u001b[0;34m\u001b[0m\u001b[0;34m\u001b[0m\u001b[0m\n\u001b[0;32m-> 2898\u001b[0;31m                 \u001b[0;32mreturn\u001b[0m \u001b[0mself\u001b[0m\u001b[0;34m.\u001b[0m\u001b[0m_engine\u001b[0m\u001b[0;34m.\u001b[0m\u001b[0mget_loc\u001b[0m\u001b[0;34m(\u001b[0m\u001b[0mcasted_key\u001b[0m\u001b[0;34m)\u001b[0m\u001b[0;34m\u001b[0m\u001b[0;34m\u001b[0m\u001b[0m\n\u001b[0m\u001b[1;32m   2899\u001b[0m             \u001b[0;32mexcept\u001b[0m \u001b[0mKeyError\u001b[0m \u001b[0;32mas\u001b[0m \u001b[0merr\u001b[0m\u001b[0;34m:\u001b[0m\u001b[0;34m\u001b[0m\u001b[0;34m\u001b[0m\u001b[0m\n",
            "\u001b[0;32mpandas/_libs/index.pyx\u001b[0m in \u001b[0;36mpandas._libs.index.IndexEngine.get_loc\u001b[0;34m()\u001b[0m\n",
            "\u001b[0;32mpandas/_libs/index.pyx\u001b[0m in \u001b[0;36mpandas._libs.index.IndexEngine.get_loc\u001b[0;34m()\u001b[0m\n",
            "\u001b[0;32mpandas/_libs/hashtable_class_helper.pxi\u001b[0m in \u001b[0;36mpandas._libs.hashtable.PyObjectHashTable.get_item\u001b[0;34m()\u001b[0m\n",
            "\u001b[0;32mpandas/_libs/hashtable_class_helper.pxi\u001b[0m in \u001b[0;36mpandas._libs.hashtable.PyObjectHashTable.get_item\u001b[0;34m()\u001b[0m\n",
            "\u001b[0;31mKeyError\u001b[0m: 0",
            "\nThe above exception was the direct cause of the following exception:\n",
            "\u001b[0;31mKeyError\u001b[0m                                  Traceback (most recent call last)",
            "\u001b[0;32m<ipython-input-43-8b705ca9df6c>\u001b[0m in \u001b[0;36m<module>\u001b[0;34m()\u001b[0m\n\u001b[1;32m      1\u001b[0m \u001b[0mdata_count\u001b[0m\u001b[0;34m=\u001b[0m \u001b[0mpd\u001b[0m\u001b[0;34m.\u001b[0m\u001b[0mDataFrame\u001b[0m\u001b[0;34m(\u001b[0m\u001b[0mflat_data_list\u001b[0m\u001b[0;34m)\u001b[0m\u001b[0;34m\u001b[0m\u001b[0;34m\u001b[0m\u001b[0m\n\u001b[0;32m----> 2\u001b[0;31m \u001b[0mdata_count\u001b[0m\u001b[0;34m=\u001b[0m \u001b[0mdata_count\u001b[0m\u001b[0;34m[\u001b[0m\u001b[0;36m0\u001b[0m\u001b[0;34m]\u001b[0m\u001b[0;34m.\u001b[0m\u001b[0mvalue_counts\u001b[0m\u001b[0;34m(\u001b[0m\u001b[0;34m)\u001b[0m\u001b[0;34m\u001b[0m\u001b[0;34m\u001b[0m\u001b[0m\n\u001b[0m\u001b[1;32m      3\u001b[0m \u001b[0mtrial_list\u001b[0m \u001b[0;34m=\u001b[0m \u001b[0;34m[\u001b[0m\u001b[0;34m]\u001b[0m\u001b[0;34m\u001b[0m\u001b[0;34m\u001b[0m\u001b[0m\n\u001b[1;32m      4\u001b[0m \u001b[0mtrial_list\u001b[0m\u001b[0;34m.\u001b[0m\u001b[0mappend\u001b[0m\u001b[0;34m(\u001b[0m\u001b[0mdata_count\u001b[0m\u001b[0;34m[\u001b[0m\u001b[0;34m'vaccination'\u001b[0m\u001b[0;34m]\u001b[0m\u001b[0;34m)\u001b[0m\u001b[0;34m\u001b[0m\u001b[0;34m\u001b[0m\u001b[0m\n\u001b[1;32m      5\u001b[0m \u001b[0mtrial_list\u001b[0m\u001b[0;34m.\u001b[0m\u001b[0mappend\u001b[0m\u001b[0;34m(\u001b[0m\u001b[0mdata_count\u001b[0m\u001b[0;34m[\u001b[0m\u001b[0;34m'covid'\u001b[0m\u001b[0;34m]\u001b[0m\u001b[0;34m)\u001b[0m\u001b[0;34m\u001b[0m\u001b[0;34m\u001b[0m\u001b[0m\n",
            "\u001b[0;32m/usr/local/lib/python3.7/dist-packages/pandas/core/frame.py\u001b[0m in \u001b[0;36m__getitem__\u001b[0;34m(self, key)\u001b[0m\n\u001b[1;32m   2904\u001b[0m             \u001b[0;32mif\u001b[0m \u001b[0mself\u001b[0m\u001b[0;34m.\u001b[0m\u001b[0mcolumns\u001b[0m\u001b[0;34m.\u001b[0m\u001b[0mnlevels\u001b[0m \u001b[0;34m>\u001b[0m \u001b[0;36m1\u001b[0m\u001b[0;34m:\u001b[0m\u001b[0;34m\u001b[0m\u001b[0;34m\u001b[0m\u001b[0m\n\u001b[1;32m   2905\u001b[0m                 \u001b[0;32mreturn\u001b[0m \u001b[0mself\u001b[0m\u001b[0;34m.\u001b[0m\u001b[0m_getitem_multilevel\u001b[0m\u001b[0;34m(\u001b[0m\u001b[0mkey\u001b[0m\u001b[0;34m)\u001b[0m\u001b[0;34m\u001b[0m\u001b[0;34m\u001b[0m\u001b[0m\n\u001b[0;32m-> 2906\u001b[0;31m             \u001b[0mindexer\u001b[0m \u001b[0;34m=\u001b[0m \u001b[0mself\u001b[0m\u001b[0;34m.\u001b[0m\u001b[0mcolumns\u001b[0m\u001b[0;34m.\u001b[0m\u001b[0mget_loc\u001b[0m\u001b[0;34m(\u001b[0m\u001b[0mkey\u001b[0m\u001b[0;34m)\u001b[0m\u001b[0;34m\u001b[0m\u001b[0;34m\u001b[0m\u001b[0m\n\u001b[0m\u001b[1;32m   2907\u001b[0m             \u001b[0;32mif\u001b[0m \u001b[0mis_integer\u001b[0m\u001b[0;34m(\u001b[0m\u001b[0mindexer\u001b[0m\u001b[0;34m)\u001b[0m\u001b[0;34m:\u001b[0m\u001b[0;34m\u001b[0m\u001b[0;34m\u001b[0m\u001b[0m\n\u001b[1;32m   2908\u001b[0m                 \u001b[0mindexer\u001b[0m \u001b[0;34m=\u001b[0m \u001b[0;34m[\u001b[0m\u001b[0mindexer\u001b[0m\u001b[0;34m]\u001b[0m\u001b[0;34m\u001b[0m\u001b[0;34m\u001b[0m\u001b[0m\n",
            "\u001b[0;32m/usr/local/lib/python3.7/dist-packages/pandas/core/indexes/base.py\u001b[0m in \u001b[0;36mget_loc\u001b[0;34m(self, key, method, tolerance)\u001b[0m\n\u001b[1;32m   2898\u001b[0m                 \u001b[0;32mreturn\u001b[0m \u001b[0mself\u001b[0m\u001b[0;34m.\u001b[0m\u001b[0m_engine\u001b[0m\u001b[0;34m.\u001b[0m\u001b[0mget_loc\u001b[0m\u001b[0;34m(\u001b[0m\u001b[0mcasted_key\u001b[0m\u001b[0;34m)\u001b[0m\u001b[0;34m\u001b[0m\u001b[0;34m\u001b[0m\u001b[0m\n\u001b[1;32m   2899\u001b[0m             \u001b[0;32mexcept\u001b[0m \u001b[0mKeyError\u001b[0m \u001b[0;32mas\u001b[0m \u001b[0merr\u001b[0m\u001b[0;34m:\u001b[0m\u001b[0;34m\u001b[0m\u001b[0;34m\u001b[0m\u001b[0m\n\u001b[0;32m-> 2900\u001b[0;31m                 \u001b[0;32mraise\u001b[0m \u001b[0mKeyError\u001b[0m\u001b[0;34m(\u001b[0m\u001b[0mkey\u001b[0m\u001b[0;34m)\u001b[0m \u001b[0;32mfrom\u001b[0m \u001b[0merr\u001b[0m\u001b[0;34m\u001b[0m\u001b[0;34m\u001b[0m\u001b[0m\n\u001b[0m\u001b[1;32m   2901\u001b[0m \u001b[0;34m\u001b[0m\u001b[0m\n\u001b[1;32m   2902\u001b[0m         \u001b[0;32mif\u001b[0m \u001b[0mtolerance\u001b[0m \u001b[0;32mis\u001b[0m \u001b[0;32mnot\u001b[0m \u001b[0;32mNone\u001b[0m\u001b[0;34m:\u001b[0m\u001b[0;34m\u001b[0m\u001b[0;34m\u001b[0m\u001b[0m\n",
            "\u001b[0;31mKeyError\u001b[0m: 0"
          ]
        }
      ]
    },
    {
      "cell_type": "code",
      "metadata": {
        "colab": {
          "base_uri": "https://localhost:8080/"
        },
        "id": "-O_3yM7OXqbV",
        "outputId": "a7d05206-f510-4a10-fe5f-ccde549415e7"
      },
      "source": [
        "from nltk.probability import FreqDist\n",
        "freq_count= FreqDist()\n",
        "for words in data_count:\n",
        "  freq_count[words] +=1\n",
        "\n",
        "freq_count\n"
      ],
      "execution_count": null,
      "outputs": [
        {
          "output_type": "execute_result",
          "data": {
            "text/plain": [
              "FreqDist({1: 1301,\n",
              "          2: 328,\n",
              "          3: 122,\n",
              "          4: 62,\n",
              "          5: 42,\n",
              "          6: 25,\n",
              "          7: 23,\n",
              "          8: 18,\n",
              "          9: 7,\n",
              "          10: 5,\n",
              "          11: 2,\n",
              "          12: 7,\n",
              "          13: 2,\n",
              "          14: 7,\n",
              "          15: 3,\n",
              "          16: 3,\n",
              "          17: 1,\n",
              "          18: 1,\n",
              "          22: 2,\n",
              "          23: 1,\n",
              "          24: 1,\n",
              "          27: 1,\n",
              "          28: 1,\n",
              "          31: 1,\n",
              "          34: 1,\n",
              "          37: 1,\n",
              "          44: 1,\n",
              "          49: 1,\n",
              "          66: 1,\n",
              "          85: 1,\n",
              "          91: 1,\n",
              "          149: 1,\n",
              "          378: 1})"
            ]
          },
          "metadata": {
            "tags": []
          },
          "execution_count": 14
        }
      ]
    },
    {
      "cell_type": "code",
      "metadata": {
        "colab": {
          "base_uri": "https://localhost:8080/",
          "height": 1000
        },
        "id": "iTqpGvbkXtHa",
        "outputId": "dcc7c5fe-efbd-406b-fb9e-838d9cb2188f"
      },
      "source": [
        "import matplotlib.pyplot as plt\n",
        "import numpy as np\n",
        "import matplotlib.pyplot as plt\n",
        "import seaborn as sns\n",
        "plt.figure(figsize=(20,20))\n",
        "data_count.plot()"
      ],
      "execution_count": null,
      "outputs": [
        {
          "output_type": "execute_result",
          "data": {
            "text/plain": [
              "<matplotlib.axes._subplots.AxesSubplot at 0x7faac55cf250>"
            ]
          },
          "metadata": {
            "tags": []
          },
          "execution_count": 19
        },
        {
          "output_type": "display_data",
          "data": {
            "image/png": "[encoded data removed]",
            "text/plain": [
              "<Figure size 1440x1440 with 1 Axes>"
            ]
          },
          "metadata": {
            "tags": [],
            "needs_background": "light"
          }
        }
      ]
    },
    {
      "cell_type": "code",
      "metadata": {
        "colab": {
          "base_uri": "https://localhost:8080/",
          "height": 408
        },
        "id": "iy9Uu9uUX0Rj",
        "outputId": "d3a12be1-f2f7-4e21-f74b-e9858df3f5aa"
      },
      "source": [
        "data_count = data_count[:20,]\n",
        "plt.figure(figsize=(10,5))\n",
        "sns.barplot(data_count.values, data_count.index, alpha=0.8)\n",
        "plt.title('Top Words Overall')\n",
        "plt.ylabel('Word from Tweet', fontsize=12)\n",
        "plt.xlabel('Count of Words', fontsize=12)\n",
        "plt.show()"
      ],
      "execution_count": null,
      "outputs": [
        {
          "output_type": "stream",
          "text": [
            "/usr/local/lib/python3.7/dist-packages/seaborn/_decorators.py:43: FutureWarning: Pass the following variables as keyword args: x, y. From version 0.12, the only valid positional argument will be `data`, and passing other arguments without an explicit keyword will result in an error or misinterpretation.\n",
            "  FutureWarning\n"
          ],
          "name": "stderr"
        },
        {
          "output_type": "display_data",
          "data": {
            "image/png": "[encoded data removed]",
            "text/plain": [
              "<Figure size 720x360 with 1 Axes>"
            ]
          },
          "metadata": {
            "tags": [],
            "needs_background": "light"
          }
        }
      ]
    },
    {
      "cell_type": "code",
      "metadata": {
        "id": "Q8Q6xNLmX3va",
        "colab": {
          "base_uri": "https://localhost:8080/"
        },
        "outputId": "808d9202-a292-427c-dcbc-09b33a84a2aa"
      },
      "source": [
        "sum"
      ],
      "execution_count": null,
      "outputs": [
        {
          "output_type": "execute_result",
          "data": {
            "text/plain": [
              "[122, 126, 119, 93, 493, 342, 222, 243]"
            ]
          },
          "metadata": {
            "tags": []
          },
          "execution_count": 114
        }
      ]
    },
    {
      "cell_type": "code",
      "metadata": {
        "id": "bDI0L4gEiAGr"
      },
      "source": [
        "df3 = pd.DataFrame(columns = [\"frequency\",\"index\"])"
      ],
      "execution_count": null,
      "outputs": []
    },
    {
      "cell_type": "code",
      "metadata": {
        "colab": {
          "base_uri": "https://localhost:8080/",
          "height": 47
        },
        "id": "RlW6owAiiTkh",
        "outputId": "25a694b9-c45e-4a83-aa82-bbf409c21e36"
      },
      "source": [
        "df3"
      ],
      "execution_count": null,
      "outputs": [
        {
          "output_type": "execute_result",
          "data": {
            "text/html": [
              "<div>\n",
              "<style scoped>\n",
              "    .dataframe tbody tr th:only-of-type {\n",
              "        vertical-align: middle;\n",
              "    }\n",
              "\n",
              "    .dataframe tbody tr th {\n",
              "        vertical-align: top;\n",
              "    }\n",
              "\n",
              "    .dataframe thead th {\n",
              "        text-align: right;\n",
              "    }\n",
              "</style>\n",
              "<table border=\"1\" class=\"dataframe\">\n",
              "  <thead>\n",
              "    <tr style=\"text-align: right;\">\n",
              "      <th></th>\n",
              "      <th>frequency</th>\n",
              "      <th>index</th>\n",
              "    </tr>\n",
              "  </thead>\n",
              "  <tbody>\n",
              "  </tbody>\n",
              "</table>\n",
              "</div>"
            ],
            "text/plain": [
              "Empty DataFrame\n",
              "Columns: [frequency, index]\n",
              "Index: []"
            ]
          },
          "metadata": {
            "tags": []
          },
          "execution_count": 116
        }
      ]
    },
    {
      "cell_type": "code",
      "metadata": {
        "id": "ZbQato9migQj"
      },
      "source": [
        "df3['frequency'] = sum"
      ],
      "execution_count": null,
      "outputs": []
    },
    {
      "cell_type": "code",
      "metadata": {
        "colab": {
          "base_uri": "https://localhost:8080/",
          "height": 282
        },
        "id": "1Ue1XPBcivOy",
        "outputId": "04a8e002-5b73-490a-fd0c-9adae4a3a855"
      },
      "source": [
        "df3"
      ],
      "execution_count": null,
      "outputs": [
        {
          "output_type": "execute_result",
          "data": {
            "text/html": [
              "<div>\n",
              "<style scoped>\n",
              "    .dataframe tbody tr th:only-of-type {\n",
              "        vertical-align: middle;\n",
              "    }\n",
              "\n",
              "    .dataframe tbody tr th {\n",
              "        vertical-align: top;\n",
              "    }\n",
              "\n",
              "    .dataframe thead th {\n",
              "        text-align: right;\n",
              "    }\n",
              "</style>\n",
              "<table border=\"1\" class=\"dataframe\">\n",
              "  <thead>\n",
              "    <tr style=\"text-align: right;\">\n",
              "      <th></th>\n",
              "      <th>frequency</th>\n",
              "      <th>index</th>\n",
              "    </tr>\n",
              "  </thead>\n",
              "  <tbody>\n",
              "    <tr>\n",
              "      <th>0</th>\n",
              "      <td>122</td>\n",
              "      <td>NaN</td>\n",
              "    </tr>\n",
              "    <tr>\n",
              "      <th>1</th>\n",
              "      <td>126</td>\n",
              "      <td>NaN</td>\n",
              "    </tr>\n",
              "    <tr>\n",
              "      <th>2</th>\n",
              "      <td>119</td>\n",
              "      <td>NaN</td>\n",
              "    </tr>\n",
              "    <tr>\n",
              "      <th>3</th>\n",
              "      <td>93</td>\n",
              "      <td>NaN</td>\n",
              "    </tr>\n",
              "    <tr>\n",
              "      <th>4</th>\n",
              "      <td>493</td>\n",
              "      <td>NaN</td>\n",
              "    </tr>\n",
              "    <tr>\n",
              "      <th>5</th>\n",
              "      <td>342</td>\n",
              "      <td>NaN</td>\n",
              "    </tr>\n",
              "    <tr>\n",
              "      <th>6</th>\n",
              "      <td>222</td>\n",
              "      <td>NaN</td>\n",
              "    </tr>\n",
              "    <tr>\n",
              "      <th>7</th>\n",
              "      <td>243</td>\n",
              "      <td>NaN</td>\n",
              "    </tr>\n",
              "  </tbody>\n",
              "</table>\n",
              "</div>"
            ],
            "text/plain": [
              "   frequency index\n",
              "0        122   NaN\n",
              "1        126   NaN\n",
              "2        119   NaN\n",
              "3         93   NaN\n",
              "4        493   NaN\n",
              "5        342   NaN\n",
              "6        222   NaN\n",
              "7        243   NaN"
            ]
          },
          "metadata": {
            "tags": []
          },
          "execution_count": 118
        }
      ]
    },
    {
      "cell_type": "code",
      "metadata": {
        "id": "pJfeHPuKi14q"
      },
      "source": [
        "dates = [ '25/02/2021','26/02/2021','27/02/2021','28/02/2021','01/03/2021','02/03/2021','03/03/2021','04/03/2021']"
      ],
      "execution_count": null,
      "outputs": []
    },
    {
      "cell_type": "code",
      "metadata": {
        "id": "rlA1YsebjtoJ"
      },
      "source": [
        "df3['index'] = dates"
      ],
      "execution_count": null,
      "outputs": []
    },
    {
      "cell_type": "code",
      "metadata": {
        "colab": {
          "base_uri": "https://localhost:8080/",
          "height": 282
        },
        "id": "gk_Wf2iCjwmO",
        "outputId": "c5aa18c5-602f-4b19-d933-a29fa83a7d3f"
      },
      "source": [
        "df3"
      ],
      "execution_count": null,
      "outputs": [
        {
          "output_type": "execute_result",
          "data": {
            "text/html": [
              "<div>\n",
              "<style scoped>\n",
              "    .dataframe tbody tr th:only-of-type {\n",
              "        vertical-align: middle;\n",
              "    }\n",
              "\n",
              "    .dataframe tbody tr th {\n",
              "        vertical-align: top;\n",
              "    }\n",
              "\n",
              "    .dataframe thead th {\n",
              "        text-align: right;\n",
              "    }\n",
              "</style>\n",
              "<table border=\"1\" class=\"dataframe\">\n",
              "  <thead>\n",
              "    <tr style=\"text-align: right;\">\n",
              "      <th></th>\n",
              "      <th>frequency</th>\n",
              "      <th>index</th>\n",
              "    </tr>\n",
              "  </thead>\n",
              "  <tbody>\n",
              "    <tr>\n",
              "      <th>0</th>\n",
              "      <td>122</td>\n",
              "      <td>25/02/2021</td>\n",
              "    </tr>\n",
              "    <tr>\n",
              "      <th>1</th>\n",
              "      <td>126</td>\n",
              "      <td>26/02/2021</td>\n",
              "    </tr>\n",
              "    <tr>\n",
              "      <th>2</th>\n",
              "      <td>119</td>\n",
              "      <td>27/02/2021</td>\n",
              "    </tr>\n",
              "    <tr>\n",
              "      <th>3</th>\n",
              "      <td>93</td>\n",
              "      <td>28/02/2021</td>\n",
              "    </tr>\n",
              "    <tr>\n",
              "      <th>4</th>\n",
              "      <td>493</td>\n",
              "      <td>01/03/2021</td>\n",
              "    </tr>\n",
              "    <tr>\n",
              "      <th>5</th>\n",
              "      <td>342</td>\n",
              "      <td>02/03/2021</td>\n",
              "    </tr>\n",
              "    <tr>\n",
              "      <th>6</th>\n",
              "      <td>222</td>\n",
              "      <td>03/03/2021</td>\n",
              "    </tr>\n",
              "    <tr>\n",
              "      <th>7</th>\n",
              "      <td>243</td>\n",
              "      <td>04/03/2021</td>\n",
              "    </tr>\n",
              "  </tbody>\n",
              "</table>\n",
              "</div>"
            ],
            "text/plain": [
              "   frequency       index\n",
              "0        122  25/02/2021\n",
              "1        126  26/02/2021\n",
              "2        119  27/02/2021\n",
              "3         93  28/02/2021\n",
              "4        493  01/03/2021\n",
              "5        342  02/03/2021\n",
              "6        222  03/03/2021\n",
              "7        243  04/03/2021"
            ]
          },
          "metadata": {
            "tags": []
          },
          "execution_count": 124
        }
      ]
    },
    {
      "cell_type": "code",
      "metadata": {
        "colab": {
          "base_uri": "https://localhost:8080/",
          "height": 228
        },
        "id": "Xl1PaY9ojxbX",
        "outputId": "eec81e76-1207-4a83-ee82-e194b4ec732b"
      },
      "source": [
        "x ,y  = dates,sum\n",
        "plt.figure(figsize=(10,3))\n",
        "plt.plot(x,y)"
      ],
      "execution_count": null,
      "outputs": [
        {
          "output_type": "execute_result",
          "data": {
            "text/plain": [
              "[<matplotlib.lines.Line2D at 0x7f8921894e10>]"
            ]
          },
          "metadata": {
            "tags": []
          },
          "execution_count": 125
        },
        {
          "output_type": "display_data",
          "data": {
            "image/png": "[encoded data removed]",
            "text/plain": [
              "<Figure size 720x216 with 1 Axes>"
            ]
          },
          "metadata": {
            "tags": [],
            "needs_background": "light"
          }
        }
      ]
    },
    {
      "cell_type": "code",
      "metadata": {
        "id": "zVnKU-JRkTmq"
      },
      "source": [
        "import seaborn as sns"
      ],
      "execution_count": null,
      "outputs": []
    },
    {
      "cell_type": "code",
      "metadata": {
        "id": "D4BFHFmokYRs"
      },
      "source": [
        "data = (dates,sum)"
      ],
      "execution_count": null,
      "outputs": []
    },
    {
      "cell_type": "code",
      "metadata": {
        "id": "P9URIa28koKl"
      },
      "source": [
        ""
      ],
      "execution_count": null,
      "outputs": []
    }
  ]
}